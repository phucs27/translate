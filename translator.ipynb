{
 "cells": [
  {
   "cell_type": "code",
   "execution_count": 33,
   "metadata": {},
   "outputs": [],
   "source": [
    "from transformers import AutoModelForSeq2SeqLM, AutoTokenizer, pipeline, MarianTokenizer, MarianMTModel"
   ]
  },
  {
   "cell_type": "code",
   "execution_count": 50,
   "metadata": {},
   "outputs": [
    {
     "name": "stderr",
     "output_type": "stream",
     "text": [
      "c:\\Python3\\Lib\\site-packages\\huggingface_hub\\file_download.py:159: UserWarning: `huggingface_hub` cache-system uses symlinks by default to efficiently store duplicated files but your machine does not support them in C:\\Users\\Phucs\\.cache\\huggingface\\hub\\models--Helsinki-NLP--opus-mt-tc-big-en-ko. Caching files will still work but in a degraded version that might require more space on your disk. This warning can be disabled by setting the `HF_HUB_DISABLE_SYMLINKS_WARNING` environment variable. For more details, see https://huggingface.co/docs/huggingface_hub/how-to-cache#limitations.\n",
      "To support symlinks on Windows, you either need to activate Developer Mode or to run Python as an administrator. In order to see activate developer mode, see this article: https://docs.microsoft.com/en-us/windows/apps/get-started/enable-your-device-for-development\n",
      "  warnings.warn(message)\n",
      "c:\\Python3\\Lib\\site-packages\\transformers\\tokenization_utils_base.py:1601: FutureWarning: `clean_up_tokenization_spaces` was not set. It will be set to `True` by default. This behavior will be depracted in transformers v4.45, and will be then set to `False` by default. For more details check this issue: https://github.com/huggingface/transformers/issues/31884\n",
      "  warnings.warn(\n",
      "Some non-default generation parameters are set in the model config. These should go into a GenerationConfig file (https://huggingface.co/docs/transformers/generation_strategies#save-a-custom-decoding-strategy-with-your-model) instead. This warning will be raised to an exception in v4.41.\n",
      "Non-default generation parameters: {'max_length': 512, 'num_beams': 4, 'bad_words_ids': [[32000]], 'forced_eos_token_id': 2}\n"
     ]
    },
    {
     "name": "stdout",
     "output_type": "stream",
     "text": [
      "done!\n",
      "done!!\n"
     ]
    }
   ],
   "source": [
    "#dowload model\n",
    "model = AutoModelForSeq2SeqLM.from_pretrained(\"Helsinki-NLP/opus-mt-tc-big-en-ko\")\n",
    "tokenizer = AutoTokenizer.from_pretrained(\"Helsinki-NLP/opus-mt-tc-big-en-ko\")\n",
    "# TFAutoModelForSeq2SeqLM\n",
    "model.save_pretrained(\"./models/opus-mt-tc-big-en-ko\")\n",
    "print(\"done!\")\n",
    "tokenizer.save_pretrained(\"./models/opus-mt-tc-big-en-ko\")\n",
    "print(\"done!!\")\n"
   ]
  },
  {
   "cell_type": "markdown",
   "metadata": {},
   "source": [
    "#### translate vi_to_en using nllb-200-distilled-600M"
   ]
  },
  {
   "cell_type": "code",
   "execution_count": 71,
   "metadata": {},
   "outputs": [
    {
     "name": "stdout",
     "output_type": "stream",
     "text": [
      "[{'translation_text': '안녕하세요'}]\n",
      "안녕하세요\n"
     ]
    }
   ],
   "source": [
    "model = AutoModelForSeq2SeqLM.from_pretrained(\"./models/nllb-200-distilled-600M\")\n",
    "tokenizer = AutoTokenizer.from_pretrained(\"./models/nllb-200-distilled-600M\")\n",
    "# translator = pipeline('translation', model=model, tokenizer=tokenizer, src_lang=\"vie_Latn\", tgt_lang='eng_Latn',max_length=400)\n",
    "translator = pipeline('translation', model=model, tokenizer=tokenizer, src_lang=\"eng_Latn\", tgt_lang='kor_Hang',max_length=400)\n",
    "\n",
    "\n",
    "translator = translator(\"Good morning.\")\n",
    "print(translator)\n",
    "print(translator[0]['translation_text'])\n"
   ]
  },
  {
   "cell_type": "markdown",
   "metadata": {},
   "source": [
    "#### translate vi_to_en using opus-mt-vi-en"
   ]
  },
  {
   "cell_type": "code",
   "execution_count": 12,
   "metadata": {},
   "outputs": [
    {
     "name": "stdout",
     "output_type": "stream",
     "text": [
      "Good morning.\n"
     ]
    }
   ],
   "source": [
    "text = \"chào buổi sáng\"\n",
    "model_vi_en = AutoModelForSeq2SeqLM.from_pretrained(\"./models/opus-mt-vi-en\")\n",
    "tokenizer_vi_en = AutoTokenizer.from_pretrained(\"./models/opus-mt-vi-en\")\n",
    "\n",
    "inputs = tokenizer_vi_en(text, return_tensors=\"pt\", padding=True)\n",
    "translated = model_vi_en.generate(**inputs)\n",
    "translated_txt = tokenizer_vi_en.decode(translated[0], skip_special_tokens=True)\n",
    "print(translated_txt)"
   ]
  },
  {
   "cell_type": "code",
   "execution_count": 20,
   "metadata": {},
   "outputs": [
    {
     "name": "stdout",
     "output_type": "stream",
     "text": [
      "Good morning.\n"
     ]
    }
   ],
   "source": [
    "translator = pipeline('translation', model=model_vi_en, tokenizer=tokenizer_vi_en, max_length=400)\n",
    "translator = translator(text)\n",
    "print(translator[0]['translation_text'])"
   ]
  },
  {
   "cell_type": "markdown",
   "metadata": {},
   "source": [
    "#### translate en_to_vi using opus-mt-en-vi"
   ]
  },
  {
   "cell_type": "code",
   "execution_count": 27,
   "metadata": {},
   "outputs": [
    {
     "name": "stdout",
     "output_type": "stream",
     "text": [
      "Chào buổi sáng.\n"
     ]
    }
   ],
   "source": [
    "text = \"Good morning.\"\n",
    "model_en_vi = AutoModelForSeq2SeqLM.from_pretrained(\"./models/opus-mt-en-vi\")\n",
    "tokenizer_en_vi = AutoTokenizer.from_pretrained(\"./models/opus-mt-en-vi\")\n",
    "\n",
    "# inputs_en = tokenizer_en_vi(text, return_tensors=\"pt\", padding=True)\n",
    "# translated = model_en_vi.generate(**inputs_en)\n",
    "# translated_txt = tokenizer_en_vi.decode(translated[0], skip_special_tokens=True)\n",
    "# print(translated_txt)\n",
    "translator = pipeline('translation', model=model_en_vi, tokenizer=tokenizer_en_vi, max_length=400)\n",
    "translator = translator(text)\n",
    "print(translator[0]['translation_text'])"
   ]
  },
  {
   "cell_type": "markdown",
   "metadata": {},
   "source": [
    "#### translate ko_to_en using opus-mt-ko-en"
   ]
  },
  {
   "cell_type": "code",
   "execution_count": 72,
   "metadata": {},
   "outputs": [
    {
     "name": "stdout",
     "output_type": "stream",
     "text": [
      "Hello.\n"
     ]
    }
   ],
   "source": [
    "text = \"좋은 아침이에요.\" #chào buổi sáng\n",
    "text = \"안녕하세요\" # xin chào\n",
    "model_ko_en = AutoModelForSeq2SeqLM.from_pretrained(\"./models/opus-mt-ko-en\")\n",
    "tokenizer_ko_en = AutoTokenizer.from_pretrained(\"./models/opus-mt-ko-en\")\n",
    "\n",
    "inputs_en = tokenizer_ko_en(text, return_tensors=\"pt\", padding=True)\n",
    "translated = model_ko_en.generate(**inputs_en)\n",
    "translated_txt = tokenizer_ko_en.decode(translated[0], skip_special_tokens=True)\n",
    "print(translated_txt)\n",
    "# translator = pipeline('translation', model=model_en_vi, tokenizer=tokenizer_en_vi, max_length=400)\n",
    "# translator = translator(text)\n",
    "# print(translator[0]['translation_text'])"
   ]
  },
  {
   "cell_type": "markdown",
   "metadata": {},
   "source": [
    "#### translate en_to_ko using opus-mt-ko-en"
   ]
  },
  {
   "cell_type": "code",
   "execution_count": 68,
   "metadata": {},
   "outputs": [
    {
     "name": "stdout",
     "output_type": "stream",
     "text": [
      "그들은,우리는,우리는 모자입니다. 신뢰할 수 있습니다.\n",
      "ATP입니다.\n"
     ]
    }
   ],
   "source": [
    "# text = \"Good morning.\"\n",
    "\n",
    "from transformers import MarianMTModel, MarianTokenizer\n",
    "\n",
    "src_text = [\n",
    "    \"2, 4, 6 etc. are even numbers.\",\n",
    "    \"Yes.\"\n",
    "]\n",
    "\n",
    "model = AutoModelForSeq2SeqLM.from_pretrained(\"./models/opus-mt-tc-big-en-ko\")\n",
    "tokenizer = AutoTokenizer.from_pretrained(\"./models/opus-mt-tc-big-en-ko\")\n",
    "translated = model.generate(**tokenizer(src_text, return_tensors=\"pt\", padding=True))\n",
    "\n",
    "for t in translated:\n",
    "    print( tokenizer.decode(t, skip_special_tokens=True) )\n",
    "\n",
    "# expected output:\n",
    "#     2, 4, 6 등은 짝수입니다.\n",
    "#     그래\n"
   ]
  },
  {
   "cell_type": "code",
   "execution_count": 79,
   "metadata": {},
   "outputs": [
    {
     "name": "stderr",
     "output_type": "stream",
     "text": [
      "c:\\Python3\\Lib\\site-packages\\transformers\\tokenization_utils_base.py:1601: FutureWarning: `clean_up_tokenization_spaces` was not set. It will be set to `True` by default. This behavior will be depracted in transformers v4.45, and will be then set to `False` by default. For more details check this issue: https://github.com/huggingface/transformers/issues/31884\n",
      "  warnings.warn(\n"
     ]
    },
    {
     "name": "stdout",
     "output_type": "stream",
     "text": [
      "[{'translation_text': '그들은,우리는,우리는 모자입니다. 신뢰할 수 있습니다.'}]\n"
     ]
    }
   ],
   "source": [
    "from transformers import pipeline\n",
    "pipe = pipeline(\"translation\", model=\"Helsinki-NLP/opus-mt-tc-big-en-ko\", tgt_lang='kor_Hang')\n",
    "print(pipe(\"2, 4, 6 etc. are even numbers.\"))"
   ]
  },
  {
   "cell_type": "code",
   "execution_count": 80,
   "metadata": {},
   "outputs": [
    {
     "name": "stdout",
     "output_type": "stream",
     "text": [
      "stay입니다.\n"
     ]
    }
   ],
   "source": [
    "\n",
    "\n",
    "\n",
    "text = \"Good morning.\"\n",
    "model = AutoModelForSeq2SeqLM.from_pretrained(\"./models/opus-mt-tc-big-en-ko\")\n",
    "tokenizer = AutoTokenizer.from_pretrained(\"./models/opus-mt-tc-big-en-ko\")\n",
    "# inputs_en = tokenizer_en_vi(text, return_tensors=\"pt\", padding=True)\n",
    "# translated = model_en_vi.generate(**inputs_en)\n",
    "# translated_txt = tokenizer_en_vi.decode(translated[0], skip_special_tokens=True)\n",
    "# print(translated_txt)\n",
    "translator = pipeline('translation', model=model, tokenizer=tokenizer,src_lang=\"eng_Latn\", tgt_lang='kor_Hang', max_length=400)\n",
    "translator = translator(text)\n",
    "print(translator[0]['translation_text'])\n"
   ]
  }
 ],
 "metadata": {
  "kernelspec": {
   "display_name": "Python 3",
   "language": "python",
   "name": "python3"
  },
  "language_info": {
   "codemirror_mode": {
    "name": "ipython",
    "version": 3
   },
   "file_extension": ".py",
   "mimetype": "text/x-python",
   "name": "python",
   "nbconvert_exporter": "python",
   "pygments_lexer": "ipython3",
   "version": "3.11.4"
  }
 },
 "nbformat": 4,
 "nbformat_minor": 2
}
